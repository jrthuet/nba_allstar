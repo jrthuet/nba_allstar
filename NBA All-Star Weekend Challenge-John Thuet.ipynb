{
 "cells": [
  {
   "cell_type": "markdown",
   "metadata": {},
   "source": [
    "# NBA All-Star Weekend Challenge\n",
    "\n",
    "Your task...answer the following questions given the dataset given about the NBA All-Star Game from the year 2000 - 2016\n",
    "\n",
    "Become more familiar with the dataset <a href=\"https://www.kaggle.com/fmejia21/nba-all-star-game-20002016\">here</a>\n",
    "\n",
    "Once completed, commit this notebook to github and submit the link to the google classroom assignment.\n",
    "\n",
    "<a href=\"https://classroom.google.com/u/2/c/NDc4MzEzMjI5Nzla/a/NTE3OTYxNzM2OTNa/details\">Google Classroom</a>"
   ]
  },
  {
   "cell_type": "markdown",
   "metadata": {},
   "source": [
    "# What is the average weight of all players who played during this time?"
   ]
  },
  {
   "cell_type": "code",
   "execution_count": 1,
   "metadata": {},
   "outputs": [],
   "source": [
    "import pandas as pd\n",
    "import numpy as np\n",
    "import matplotlib.pyplot as plt"
   ]
  },
  {
   "cell_type": "code",
   "execution_count": 2,
   "metadata": {
    "scrolled": true
   },
   "outputs": [
    {
     "data": {
      "text/html": [
       "<div>\n",
       "<style scoped>\n",
       "    .dataframe tbody tr th:only-of-type {\n",
       "        vertical-align: middle;\n",
       "    }\n",
       "\n",
       "    .dataframe tbody tr th {\n",
       "        vertical-align: top;\n",
       "    }\n",
       "\n",
       "    .dataframe thead th {\n",
       "        text-align: right;\n",
       "    }\n",
       "</style>\n",
       "<table border=\"1\" class=\"dataframe\">\n",
       "  <thead>\n",
       "    <tr style=\"text-align: right;\">\n",
       "      <th></th>\n",
       "      <th>Year</th>\n",
       "      <th>Player</th>\n",
       "      <th>Pos</th>\n",
       "      <th>HT</th>\n",
       "      <th>WT</th>\n",
       "      <th>Team</th>\n",
       "      <th>Selection Type</th>\n",
       "      <th>NBA Draft Status</th>\n",
       "      <th>Nationality</th>\n",
       "    </tr>\n",
       "  </thead>\n",
       "  <tbody>\n",
       "    <tr>\n",
       "      <td>0</td>\n",
       "      <td>2016</td>\n",
       "      <td>Stephen Curry</td>\n",
       "      <td>G</td>\n",
       "      <td>6-3</td>\n",
       "      <td>190</td>\n",
       "      <td>Golden State Warriors</td>\n",
       "      <td>Western All-Star Fan Vote Selection</td>\n",
       "      <td>2009 Rnd 1 Pick 7</td>\n",
       "      <td>United States</td>\n",
       "    </tr>\n",
       "    <tr>\n",
       "      <td>1</td>\n",
       "      <td>2016</td>\n",
       "      <td>James Harden</td>\n",
       "      <td>SG</td>\n",
       "      <td>6-5</td>\n",
       "      <td>220</td>\n",
       "      <td>Houston Rockets</td>\n",
       "      <td>Western All-Star Fan Vote Selection</td>\n",
       "      <td>2009 Rnd 1 Pick 3</td>\n",
       "      <td>United States</td>\n",
       "    </tr>\n",
       "    <tr>\n",
       "      <td>2</td>\n",
       "      <td>2016</td>\n",
       "      <td>Kevin Durant</td>\n",
       "      <td>SF</td>\n",
       "      <td>6-9</td>\n",
       "      <td>240</td>\n",
       "      <td>Golden State Warriors</td>\n",
       "      <td>Western All-Star Fan Vote Selection</td>\n",
       "      <td>2007 Rnd 1 Pick 2</td>\n",
       "      <td>United States</td>\n",
       "    </tr>\n",
       "    <tr>\n",
       "      <td>3</td>\n",
       "      <td>2016</td>\n",
       "      <td>Kawhi Leonard</td>\n",
       "      <td>F</td>\n",
       "      <td>6-7</td>\n",
       "      <td>230</td>\n",
       "      <td>San Antonio Spurs</td>\n",
       "      <td>Western All-Star Fan Vote Selection</td>\n",
       "      <td>2011 Rnd 1 Pick 15</td>\n",
       "      <td>United States</td>\n",
       "    </tr>\n",
       "    <tr>\n",
       "      <td>4</td>\n",
       "      <td>2016</td>\n",
       "      <td>Anthony Davis</td>\n",
       "      <td>PF</td>\n",
       "      <td>6-11</td>\n",
       "      <td>253</td>\n",
       "      <td>New Orleans Pelicans</td>\n",
       "      <td>Western All-Star Fan Vote Selection</td>\n",
       "      <td>2012 Rnd 1 Pick 1</td>\n",
       "      <td>United States</td>\n",
       "    </tr>\n",
       "  </tbody>\n",
       "</table>\n",
       "</div>"
      ],
      "text/plain": [
       "   Year         Player Pos    HT   WT                   Team  \\\n",
       "0  2016  Stephen Curry   G   6-3  190  Golden State Warriors   \n",
       "1  2016   James Harden  SG   6-5  220        Houston Rockets   \n",
       "2  2016   Kevin Durant  SF   6-9  240  Golden State Warriors   \n",
       "3  2016  Kawhi Leonard   F   6-7  230      San Antonio Spurs   \n",
       "4  2016  Anthony Davis  PF  6-11  253   New Orleans Pelicans   \n",
       "\n",
       "                        Selection Type    NBA Draft Status    Nationality  \n",
       "0  Western All-Star Fan Vote Selection   2009 Rnd 1 Pick 7  United States  \n",
       "1  Western All-Star Fan Vote Selection   2009 Rnd 1 Pick 3  United States  \n",
       "2  Western All-Star Fan Vote Selection   2007 Rnd 1 Pick 2  United States  \n",
       "3  Western All-Star Fan Vote Selection  2011 Rnd 1 Pick 15  United States  \n",
       "4  Western All-Star Fan Vote Selection   2012 Rnd 1 Pick 1  United States  "
      ]
     },
     "execution_count": 2,
     "metadata": {},
     "output_type": "execute_result"
    }
   ],
   "source": [
    "df_p = pd.read_csv('NBA All Stars 2000-2016 - Sheet1.csv')\n",
    "df_p.head()"
   ]
  },
  {
   "cell_type": "code",
   "execution_count": 3,
   "metadata": {
    "scrolled": false
   },
   "outputs": [
    {
     "data": {
      "text/plain": [
       "Year                 int64\n",
       "Player              object\n",
       "Pos                 object\n",
       "HT                  object\n",
       "WT                   int64\n",
       "Team                object\n",
       "Selection Type      object\n",
       "NBA Draft Status    object\n",
       "Nationality         object\n",
       "dtype: object"
      ]
     },
     "execution_count": 3,
     "metadata": {},
     "output_type": "execute_result"
    }
   ],
   "source": [
    "df_p.dtypes"
   ]
  },
  {
   "cell_type": "code",
   "execution_count": 4,
   "metadata": {},
   "outputs": [
    {
     "name": "stdout",
     "output_type": "stream",
     "text": [
      "The average weight of NBA all-stars from 2000-2016 is 228.8 lbs.\n"
     ]
    }
   ],
   "source": [
    "from statistics import mean\n",
    "avg_wt = round(mean(list(df_p.WT)),1)\n",
    "print(f\"The average weight of NBA all-stars from 2000-2016 is {avg_wt} lbs.\")"
   ]
  },
  {
   "cell_type": "markdown",
   "metadata": {},
   "source": [
    "# What team is represented the most during this time?"
   ]
  },
  {
   "cell_type": "code",
   "execution_count": 5,
   "metadata": {
    "scrolled": true
   },
   "outputs": [
    {
     "data": {
      "text/plain": [
       "Year                28\n",
       "Player              28\n",
       "Pos                 28\n",
       "HT                  28\n",
       "WT                  28\n",
       "Selection Type      28\n",
       "NBA Draft Status    28\n",
       "Nationality         28\n",
       "dtype: int64"
      ]
     },
     "execution_count": 5,
     "metadata": {},
     "output_type": "execute_result"
    }
   ],
   "source": [
    "teams = df_p.groupby('Team').count()\n",
    "teams.max()"
   ]
  },
  {
   "cell_type": "code",
   "execution_count": 6,
   "metadata": {},
   "outputs": [
    {
     "name": "stdout",
     "output_type": "stream",
     "text": [
      "Team\n",
      "Miami Heat    28\n",
      "Name: Player, dtype: int64\n",
      "The team with the most all-stars between 2000 and 2016 is the Miami Heat with 28 players.\n"
     ]
    }
   ],
   "source": [
    "topt = teams.query('Player == 28')\n",
    "print(topt.Player)\n",
    "print(f\"The team with the most all-stars between 2000 and 2016 is the Miami Heat with 28 players.\")"
   ]
  },
  {
   "cell_type": "markdown",
   "metadata": {},
   "source": [
    "# What draft class is represeted the most during this time?"
   ]
  },
  {
   "cell_type": "code",
   "execution_count": 7,
   "metadata": {
    "scrolled": false
   },
   "outputs": [
    {
     "data": {
      "text/html": [
       "<div>\n",
       "<style scoped>\n",
       "    .dataframe tbody tr th:only-of-type {\n",
       "        vertical-align: middle;\n",
       "    }\n",
       "\n",
       "    .dataframe tbody tr th {\n",
       "        vertical-align: top;\n",
       "    }\n",
       "\n",
       "    .dataframe thead th {\n",
       "        text-align: right;\n",
       "    }\n",
       "</style>\n",
       "<table border=\"1\" class=\"dataframe\">\n",
       "  <thead>\n",
       "    <tr style=\"text-align: right;\">\n",
       "      <th></th>\n",
       "      <th>round</th>\n",
       "    </tr>\n",
       "    <tr>\n",
       "      <th>year</th>\n",
       "      <th></th>\n",
       "    </tr>\n",
       "  </thead>\n",
       "  <tbody>\n",
       "    <tr>\n",
       "      <td>1984</td>\n",
       "      <td>2</td>\n",
       "    </tr>\n",
       "    <tr>\n",
       "      <td>1985</td>\n",
       "      <td>2</td>\n",
       "    </tr>\n",
       "    <tr>\n",
       "      <td>1987</td>\n",
       "      <td>1</td>\n",
       "    </tr>\n",
       "    <tr>\n",
       "      <td>1988</td>\n",
       "      <td>1</td>\n",
       "    </tr>\n",
       "    <tr>\n",
       "      <td>1989</td>\n",
       "      <td>1</td>\n",
       "    </tr>\n",
       "    <tr>\n",
       "      <td>1990</td>\n",
       "      <td>4</td>\n",
       "    </tr>\n",
       "    <tr>\n",
       "      <td>1991</td>\n",
       "      <td>2</td>\n",
       "    </tr>\n",
       "    <tr>\n",
       "      <td>1992</td>\n",
       "      <td>11</td>\n",
       "    </tr>\n",
       "    <tr>\n",
       "      <td>1993</td>\n",
       "      <td>6</td>\n",
       "    </tr>\n",
       "    <tr>\n",
       "      <td>1994</td>\n",
       "      <td>10</td>\n",
       "    </tr>\n",
       "    <tr>\n",
       "      <td>1995</td>\n",
       "      <td>19</td>\n",
       "    </tr>\n",
       "    <tr>\n",
       "      <td>1996</td>\n",
       "      <td>59</td>\n",
       "    </tr>\n",
       "    <tr>\n",
       "      <td>1996 NBA Draft, Undrafted</td>\n",
       "      <td>0</td>\n",
       "    </tr>\n",
       "    <tr>\n",
       "      <td>1997</td>\n",
       "      <td>25</td>\n",
       "    </tr>\n",
       "    <tr>\n",
       "      <td>1998</td>\n",
       "      <td>34</td>\n",
       "    </tr>\n",
       "    <tr>\n",
       "      <td>1998 NBA Draft, Undrafted</td>\n",
       "      <td>0</td>\n",
       "    </tr>\n",
       "    <tr>\n",
       "      <td>1999</td>\n",
       "      <td>19</td>\n",
       "    </tr>\n",
       "    <tr>\n",
       "      <td>2000</td>\n",
       "      <td>3</td>\n",
       "    </tr>\n",
       "    <tr>\n",
       "      <td>2001</td>\n",
       "      <td>27</td>\n",
       "    </tr>\n",
       "    <tr>\n",
       "      <td>2002</td>\n",
       "      <td>18</td>\n",
       "    </tr>\n",
       "    <tr>\n",
       "      <td>2003</td>\n",
       "      <td>51</td>\n",
       "    </tr>\n",
       "    <tr>\n",
       "      <td>2004</td>\n",
       "      <td>13</td>\n",
       "    </tr>\n",
       "    <tr>\n",
       "      <td>2005</td>\n",
       "      <td>16</td>\n",
       "    </tr>\n",
       "    <tr>\n",
       "      <td>2006</td>\n",
       "      <td>19</td>\n",
       "    </tr>\n",
       "    <tr>\n",
       "      <td>2007</td>\n",
       "      <td>17</td>\n",
       "    </tr>\n",
       "    <tr>\n",
       "      <td>2008</td>\n",
       "      <td>17</td>\n",
       "    </tr>\n",
       "    <tr>\n",
       "      <td>2009</td>\n",
       "      <td>19</td>\n",
       "    </tr>\n",
       "    <tr>\n",
       "      <td>2010</td>\n",
       "      <td>12</td>\n",
       "    </tr>\n",
       "    <tr>\n",
       "      <td>2011</td>\n",
       "      <td>15</td>\n",
       "    </tr>\n",
       "    <tr>\n",
       "      <td>2012</td>\n",
       "      <td>9</td>\n",
       "    </tr>\n",
       "    <tr>\n",
       "      <td>2013</td>\n",
       "      <td>1</td>\n",
       "    </tr>\n",
       "  </tbody>\n",
       "</table>\n",
       "</div>"
      ],
      "text/plain": [
       "                           round\n",
       "year                            \n",
       "1984                           2\n",
       "1985                           2\n",
       "1987                           1\n",
       "1988                           1\n",
       "1989                           1\n",
       "1990                           4\n",
       "1991                           2\n",
       "1992                          11\n",
       "1993                           6\n",
       "1994                          10\n",
       "1995                          19\n",
       "1996                          59\n",
       "1996 NBA Draft, Undrafted      0\n",
       "1997                          25\n",
       "1998                          34\n",
       "1998 NBA Draft, Undrafted      0\n",
       "1999                          19\n",
       "2000                           3\n",
       "2001                          27\n",
       "2002                          18\n",
       "2003                          51\n",
       "2004                          13\n",
       "2005                          16\n",
       "2006                          19\n",
       "2007                          17\n",
       "2008                          17\n",
       "2009                          19\n",
       "2010                          12\n",
       "2011                          15\n",
       "2012                           9\n",
       "2013                           1"
      ]
     },
     "execution_count": 7,
     "metadata": {},
     "output_type": "execute_result"
    }
   ],
   "source": [
    "df_p[\"NBA Draft Status\"].astype(str)\n",
    "draft = df_p[\"NBA Draft Status\"].str.split(\" Rnd \")\n",
    "draft_list = draft.to_list()\n",
    "names = [\"year\", \"round\"]\n",
    "df_draft = pd.DataFrame(draft_list, columns=names)\n",
    "class_count = df_draft.groupby('year').count()\n",
    "class_count\n"
   ]
  },
  {
   "cell_type": "code",
   "execution_count": 8,
   "metadata": {},
   "outputs": [
    {
     "data": {
      "text/plain": [
       "round    59\n",
       "dtype: int64"
      ]
     },
     "execution_count": 8,
     "metadata": {},
     "output_type": "execute_result"
    }
   ],
   "source": [
    "class_count.max()"
   ]
  },
  {
   "cell_type": "code",
   "execution_count": 9,
   "metadata": {},
   "outputs": [],
   "source": [
    "df_p.rename(columns={'NBA Draft Status': 'draft_status'}, inplace=True)"
   ]
  },
  {
   "cell_type": "code",
   "execution_count": 10,
   "metadata": {
    "scrolled": true
   },
   "outputs": [
    {
     "data": {
      "text/html": [
       "<div>\n",
       "<style scoped>\n",
       "    .dataframe tbody tr th:only-of-type {\n",
       "        vertical-align: middle;\n",
       "    }\n",
       "\n",
       "    .dataframe tbody tr th {\n",
       "        vertical-align: top;\n",
       "    }\n",
       "\n",
       "    .dataframe thead th {\n",
       "        text-align: right;\n",
       "    }\n",
       "</style>\n",
       "<table border=\"1\" class=\"dataframe\">\n",
       "  <thead>\n",
       "    <tr style=\"text-align: right;\">\n",
       "      <th></th>\n",
       "      <th>Year</th>\n",
       "      <th>Player</th>\n",
       "      <th>Pos</th>\n",
       "      <th>HT</th>\n",
       "      <th>WT</th>\n",
       "      <th>Team</th>\n",
       "      <th>Selection Type</th>\n",
       "      <th>draft_status</th>\n",
       "      <th>Nationality</th>\n",
       "    </tr>\n",
       "  </thead>\n",
       "  <tbody>\n",
       "    <tr>\n",
       "      <td>309</td>\n",
       "      <td>2005</td>\n",
       "      <td>Ben Wallace</td>\n",
       "      <td>FC</td>\n",
       "      <td>6-9</td>\n",
       "      <td>240</td>\n",
       "      <td>Detroit Pistons</td>\n",
       "      <td>Eastern All-Star Coaches Selection</td>\n",
       "      <td>1996 NBA Draft, Undrafted</td>\n",
       "      <td>United States</td>\n",
       "    </tr>\n",
       "    <tr>\n",
       "      <td>334</td>\n",
       "      <td>2004</td>\n",
       "      <td>Ben Wallace</td>\n",
       "      <td>FC</td>\n",
       "      <td>6-9</td>\n",
       "      <td>240</td>\n",
       "      <td>Detroit Pistons</td>\n",
       "      <td>Eastern All-Star Coaches Selection</td>\n",
       "      <td>1996 NBA Draft, Undrafted</td>\n",
       "      <td>United States</td>\n",
       "    </tr>\n",
       "    <tr>\n",
       "      <td>348</td>\n",
       "      <td>2003</td>\n",
       "      <td>Ben Wallace</td>\n",
       "      <td>FC</td>\n",
       "      <td>6-9</td>\n",
       "      <td>240</td>\n",
       "      <td>Detroit Pistons</td>\n",
       "      <td>Eastern All-Star Fan Vote Selection</td>\n",
       "      <td>1996 NBA Draft, Undrafted</td>\n",
       "      <td>United States</td>\n",
       "    </tr>\n",
       "    <tr>\n",
       "      <td>360</td>\n",
       "      <td>2002</td>\n",
       "      <td>Ben Wallace</td>\n",
       "      <td>FC</td>\n",
       "      <td>6-9</td>\n",
       "      <td>240</td>\n",
       "      <td>Detroit Pistons</td>\n",
       "      <td>Eastern All-Star Fan Vote Selection</td>\n",
       "      <td>1996 NBA Draft, Undrafted</td>\n",
       "      <td>United States</td>\n",
       "    </tr>\n",
       "  </tbody>\n",
       "</table>\n",
       "</div>"
      ],
      "text/plain": [
       "     Year       Player Pos   HT   WT             Team  \\\n",
       "309  2005  Ben Wallace  FC  6-9  240  Detroit Pistons   \n",
       "334  2004  Ben Wallace  FC  6-9  240  Detroit Pistons   \n",
       "348  2003  Ben Wallace  FC  6-9  240  Detroit Pistons   \n",
       "360  2002  Ben Wallace  FC  6-9  240  Detroit Pistons   \n",
       "\n",
       "                          Selection Type               draft_status  \\\n",
       "309   Eastern All-Star Coaches Selection  1996 NBA Draft, Undrafted   \n",
       "334   Eastern All-Star Coaches Selection  1996 NBA Draft, Undrafted   \n",
       "348  Eastern All-Star Fan Vote Selection  1996 NBA Draft, Undrafted   \n",
       "360  Eastern All-Star Fan Vote Selection  1996 NBA Draft, Undrafted   \n",
       "\n",
       "       Nationality  \n",
       "309  United States  \n",
       "334  United States  \n",
       "348  United States  \n",
       "360  United States  "
      ]
     },
     "execution_count": 10,
     "metadata": {},
     "output_type": "execute_result"
    }
   ],
   "source": [
    "df_p.query(\"draft_status == '1996 NBA Draft, Undrafted'\")"
   ]
  },
  {
   "cell_type": "code",
   "execution_count": 11,
   "metadata": {},
   "outputs": [
    {
     "name": "stdout",
     "output_type": "stream",
     "text": [
      "<bound method DataFrame.round of       round\n",
      "year       \n",
      "1996     59>\n",
      "The draft class with the most all-star game representation between 2000 and 2016 is the class of 1996 with 59 appearances. Additionally, 1 undrafted player from 1996, Ben Wallace, went to the all star game 4 times.\n"
     ]
    }
   ],
   "source": [
    "topc = class_count.query('round == 59')\n",
    "print(topc.round)\n",
    "print(f\"The draft class with the most all-star game representation between 2000 and 2016 is the class of 1996 with 59 appearances. Additionally, 1 undrafted player from 1996, Ben Wallace, went to the all star game 4 times.\")"
   ]
  },
  {
   "cell_type": "markdown",
   "metadata": {},
   "source": [
    "# Are foriegn players more prevalent in the All-Star Game during this time?"
   ]
  },
  {
   "cell_type": "code",
   "execution_count": 12,
   "metadata": {
    "scrolled": true
   },
   "outputs": [
    {
     "data": {
      "text/plain": [
       "Nationality\n",
       "Argentina                              2\n",
       "Canada                                 1\n",
       "Canada\\nSouth Africa                   8\n",
       "China                                  8\n",
       "Democratic Republic of the Congo       2\n",
       "Dominican Republic\\nUnited States      4\n",
       "England\\nSouth Sudan                   2\n",
       "France                                 6\n",
       "France\\nUnited States                  2\n",
       "Germany                               13\n",
       "Germany\\nUnited States                 2\n",
       "Greece\\nNigeria                        1\n",
       "Lithuania                              2\n",
       "Russia                                 1\n",
       "Serbia                                 1\n",
       "Serbia\\nGreece                         3\n",
       "Spain                                  9\n",
       "Turkey                                 1\n",
       "United States                        365\n",
       "United States\\nAustralia               4\n",
       "United States\\nGermany                 1\n",
       "United States\\nSpain                   1\n",
       "Name: Player, dtype: int64"
      ]
     },
     "execution_count": 12,
     "metadata": {},
     "output_type": "execute_result"
    }
   ],
   "source": [
    "nat = df_p.groupby('Nationality')['Player'].count()\n",
    "nat"
   ]
  },
  {
   "cell_type": "code",
   "execution_count": 13,
   "metadata": {
    "scrolled": false
   },
   "outputs": [
    {
     "data": {
      "text/html": [
       "<div>\n",
       "<style scoped>\n",
       "    .dataframe tbody tr th:only-of-type {\n",
       "        vertical-align: middle;\n",
       "    }\n",
       "\n",
       "    .dataframe tbody tr th {\n",
       "        vertical-align: top;\n",
       "    }\n",
       "\n",
       "    .dataframe thead th {\n",
       "        text-align: right;\n",
       "    }\n",
       "</style>\n",
       "<table border=\"1\" class=\"dataframe\">\n",
       "  <thead>\n",
       "    <tr style=\"text-align: right;\">\n",
       "      <th></th>\n",
       "      <th>Year</th>\n",
       "      <th>Player</th>\n",
       "      <th>Pos</th>\n",
       "      <th>HT</th>\n",
       "      <th>WT</th>\n",
       "      <th>Team</th>\n",
       "      <th>Selection Type</th>\n",
       "      <th>draft_status</th>\n",
       "      <th>Nationality</th>\n",
       "    </tr>\n",
       "  </thead>\n",
       "  <tbody>\n",
       "    <tr>\n",
       "      <td>12</td>\n",
       "      <td>2016</td>\n",
       "      <td>Kyrie Irving</td>\n",
       "      <td>G</td>\n",
       "      <td>6-3</td>\n",
       "      <td>193</td>\n",
       "      <td>Cleveland Cavaliers</td>\n",
       "      <td>Eastern All-Star Fan Vote Selection</td>\n",
       "      <td>2011 Rnd 1 Pick 1</td>\n",
       "      <td>United States\\nAustralia</td>\n",
       "    </tr>\n",
       "    <tr>\n",
       "      <td>15</td>\n",
       "      <td>2016</td>\n",
       "      <td>Giannis Antetokounmpo</td>\n",
       "      <td>F</td>\n",
       "      <td>6-11</td>\n",
       "      <td>222</td>\n",
       "      <td>Milwaukee Bucks</td>\n",
       "      <td>Eastern All-Star Fan Vote Selection</td>\n",
       "      <td>2013 Rnd 1 Pick 15</td>\n",
       "      <td>Greece\\nNigeria</td>\n",
       "    </tr>\n",
       "    <tr>\n",
       "      <td>37</td>\n",
       "      <td>2015</td>\n",
       "      <td>Al Horford</td>\n",
       "      <td>FC</td>\n",
       "      <td>6-10</td>\n",
       "      <td>245</td>\n",
       "      <td>Atlanta Hawks</td>\n",
       "      <td>Eastern All-Star Replacement Selection</td>\n",
       "      <td>2007 Rnd 1 Pick 3</td>\n",
       "      <td>Dominican Republic\\nUnited States</td>\n",
       "    </tr>\n",
       "    <tr>\n",
       "      <td>55</td>\n",
       "      <td>2014</td>\n",
       "      <td>Al Horford</td>\n",
       "      <td>FC</td>\n",
       "      <td>6-10</td>\n",
       "      <td>245</td>\n",
       "      <td>Atlanta Hawks</td>\n",
       "      <td>Eastern All-Star Coaches Selection</td>\n",
       "      <td>2007 Rnd 1 Pick 3</td>\n",
       "      <td>Dominican Republic\\nUnited States</td>\n",
       "    </tr>\n",
       "    <tr>\n",
       "      <td>59</td>\n",
       "      <td>2014</td>\n",
       "      <td>Kyrie Irving</td>\n",
       "      <td>G</td>\n",
       "      <td>6-3</td>\n",
       "      <td>193</td>\n",
       "      <td>Cleveland Cavaliers</td>\n",
       "      <td>Eastern All-Star Coaches Selection</td>\n",
       "      <td>2011 Rnd 1 Pick 1</td>\n",
       "      <td>United States\\nAustralia</td>\n",
       "    </tr>\n",
       "    <tr>\n",
       "      <td>93</td>\n",
       "      <td>2013</td>\n",
       "      <td>Kyrie Irving</td>\n",
       "      <td>G</td>\n",
       "      <td>6-3</td>\n",
       "      <td>193</td>\n",
       "      <td>Cleveland Cavaliers</td>\n",
       "      <td>Eastern All-Star Fan Vote Selection</td>\n",
       "      <td>2011 Rnd 1 Pick 1</td>\n",
       "      <td>United States\\nAustralia</td>\n",
       "    </tr>\n",
       "    <tr>\n",
       "      <td>100</td>\n",
       "      <td>2013</td>\n",
       "      <td>Joakim Noah</td>\n",
       "      <td>FC</td>\n",
       "      <td>6-11</td>\n",
       "      <td>230</td>\n",
       "      <td>Chicago Bulls</td>\n",
       "      <td>Eastern All-Star Coaches Selection</td>\n",
       "      <td>2007 Rnd 1 Pick 9</td>\n",
       "      <td>France\\nUnited States</td>\n",
       "    </tr>\n",
       "    <tr>\n",
       "      <td>122</td>\n",
       "      <td>2012</td>\n",
       "      <td>Joakim Noah</td>\n",
       "      <td>FC</td>\n",
       "      <td>6-11</td>\n",
       "      <td>230</td>\n",
       "      <td>Chicago Bulls</td>\n",
       "      <td>Eastern All-Star Coaches Selection</td>\n",
       "      <td>2007 Rnd 1 Pick 9</td>\n",
       "      <td>France\\nUnited States</td>\n",
       "    </tr>\n",
       "    <tr>\n",
       "      <td>124</td>\n",
       "      <td>2012</td>\n",
       "      <td>Luol Deng</td>\n",
       "      <td>GF</td>\n",
       "      <td>6-9</td>\n",
       "      <td>220</td>\n",
       "      <td>Chicago Bulls</td>\n",
       "      <td>Eastern All-Star Coaches Selection</td>\n",
       "      <td>2004 Rnd 1 Pick 7</td>\n",
       "      <td>England\\nSouth Sudan</td>\n",
       "    </tr>\n",
       "    <tr>\n",
       "      <td>126</td>\n",
       "      <td>2012</td>\n",
       "      <td>Kyrie Irving</td>\n",
       "      <td>G</td>\n",
       "      <td>6-3</td>\n",
       "      <td>193</td>\n",
       "      <td>Cleveland Cavaliers</td>\n",
       "      <td>Eastern All-Star Coaches Selection</td>\n",
       "      <td>2011 Rnd 1 Pick 1</td>\n",
       "      <td>United States\\nAustralia</td>\n",
       "    </tr>\n",
       "    <tr>\n",
       "      <td>137</td>\n",
       "      <td>2011</td>\n",
       "      <td>Luol Deng</td>\n",
       "      <td>GF</td>\n",
       "      <td>6-9</td>\n",
       "      <td>220</td>\n",
       "      <td>Chicago Bulls</td>\n",
       "      <td>Eastern All-Star Coaches Selection</td>\n",
       "      <td>2004 Rnd 1 Pick 7</td>\n",
       "      <td>England\\nSouth Sudan</td>\n",
       "    </tr>\n",
       "    <tr>\n",
       "      <td>151</td>\n",
       "      <td>2011</td>\n",
       "      <td>Steve Nash</td>\n",
       "      <td>G</td>\n",
       "      <td>6-3</td>\n",
       "      <td>178</td>\n",
       "      <td>Phoenix Suns</td>\n",
       "      <td>Western All-Star Coaches Selection</td>\n",
       "      <td>1996 Rnd 1 Pick 15</td>\n",
       "      <td>Canada\\nSouth Africa</td>\n",
       "    </tr>\n",
       "    <tr>\n",
       "      <td>175</td>\n",
       "      <td>2010</td>\n",
       "      <td>Al Horford</td>\n",
       "      <td>FC</td>\n",
       "      <td>6-10</td>\n",
       "      <td>245</td>\n",
       "      <td>Atlanta Hawks</td>\n",
       "      <td>Eastern All-Star Coaches Selection</td>\n",
       "      <td>2007 Rnd 1 Pick 3</td>\n",
       "      <td>Dominican Republic\\nUnited States</td>\n",
       "    </tr>\n",
       "    <tr>\n",
       "      <td>185</td>\n",
       "      <td>2009</td>\n",
       "      <td>Steve Nash</td>\n",
       "      <td>G</td>\n",
       "      <td>6-3</td>\n",
       "      <td>178</td>\n",
       "      <td>Phoenix Suns</td>\n",
       "      <td>Western All-Star Fan Vote Selection</td>\n",
       "      <td>1996 Rnd 1 Pick 15</td>\n",
       "      <td>Canada\\nSouth Africa</td>\n",
       "    </tr>\n",
       "    <tr>\n",
       "      <td>191</td>\n",
       "      <td>2009</td>\n",
       "      <td>Chris Kaman</td>\n",
       "      <td>C</td>\n",
       "      <td>7-0</td>\n",
       "      <td>265</td>\n",
       "      <td>Los Angeles Clippers</td>\n",
       "      <td>Western All-Star Replacement Selection</td>\n",
       "      <td>2003 Rnd 1 Pick 6</td>\n",
       "      <td>United States\\nGermany</td>\n",
       "    </tr>\n",
       "    <tr>\n",
       "      <td>204</td>\n",
       "      <td>2009</td>\n",
       "      <td>Al Horford</td>\n",
       "      <td>FC</td>\n",
       "      <td>6-10</td>\n",
       "      <td>245</td>\n",
       "      <td>Atlanta Hawks</td>\n",
       "      <td>Eastern All-Star Coaches Selection</td>\n",
       "      <td>2007 Rnd 1 Pick 3</td>\n",
       "      <td>Dominican Republic\\nUnited States</td>\n",
       "    </tr>\n",
       "    <tr>\n",
       "      <td>232</td>\n",
       "      <td>2007</td>\n",
       "      <td>Carlos Boozer</td>\n",
       "      <td>PF</td>\n",
       "      <td>6-9</td>\n",
       "      <td>266</td>\n",
       "      <td>Utah Jazz</td>\n",
       "      <td>Western All-Star Coaches Selection</td>\n",
       "      <td>2002 Rnd 2 Pick 6</td>\n",
       "      <td>Germany\\nUnited States</td>\n",
       "    </tr>\n",
       "    <tr>\n",
       "      <td>233</td>\n",
       "      <td>2007</td>\n",
       "      <td>Steve Nash</td>\n",
       "      <td>G</td>\n",
       "      <td>6-3</td>\n",
       "      <td>178</td>\n",
       "      <td>Phoenix Suns</td>\n",
       "      <td>Western All-Star Coaches Selection</td>\n",
       "      <td>1996 Rnd 1 Pick 15</td>\n",
       "      <td>Canada\\nSouth Africa</td>\n",
       "    </tr>\n",
       "    <tr>\n",
       "      <td>263</td>\n",
       "      <td>2006</td>\n",
       "      <td>Steve Nash</td>\n",
       "      <td>G</td>\n",
       "      <td>6-3</td>\n",
       "      <td>178</td>\n",
       "      <td>Phoenix Suns</td>\n",
       "      <td>Western All-Star Coaches Selection</td>\n",
       "      <td>1996 Rnd 1 Pick 15</td>\n",
       "      <td>Canada\\nSouth Africa</td>\n",
       "    </tr>\n",
       "    <tr>\n",
       "      <td>265</td>\n",
       "      <td>2006</td>\n",
       "      <td>Carlos Boozer</td>\n",
       "      <td>PF</td>\n",
       "      <td>6-9</td>\n",
       "      <td>266</td>\n",
       "      <td>Utah Jazz</td>\n",
       "      <td>Western All-Star Coaches Selection</td>\n",
       "      <td>2002 Rnd 2 Pick 6</td>\n",
       "      <td>Germany\\nUnited States</td>\n",
       "    </tr>\n",
       "    <tr>\n",
       "      <td>287</td>\n",
       "      <td>2005</td>\n",
       "      <td>Steve Nash</td>\n",
       "      <td>G</td>\n",
       "      <td>6-3</td>\n",
       "      <td>178</td>\n",
       "      <td>Phoenix Suns</td>\n",
       "      <td>Western All-Star Fan Vote Selection</td>\n",
       "      <td>1996 Rnd 1 Pick 15</td>\n",
       "      <td>Canada\\nSouth Africa</td>\n",
       "    </tr>\n",
       "    <tr>\n",
       "      <td>321</td>\n",
       "      <td>2004</td>\n",
       "      <td>Steve Nash</td>\n",
       "      <td>G</td>\n",
       "      <td>6-3</td>\n",
       "      <td>178</td>\n",
       "      <td>Phoenix Suns</td>\n",
       "      <td>Western All-Star Coaches Selection</td>\n",
       "      <td>1996 Rnd 1 Pick 15</td>\n",
       "      <td>Canada\\nSouth Africa</td>\n",
       "    </tr>\n",
       "    <tr>\n",
       "      <td>344</td>\n",
       "      <td>2003</td>\n",
       "      <td>Peja Stojakovic</td>\n",
       "      <td>F</td>\n",
       "      <td>6-10</td>\n",
       "      <td>229</td>\n",
       "      <td>Sacramento Kings</td>\n",
       "      <td>Western All-Star Coaches Selection</td>\n",
       "      <td>1996 Rnd 1 Pick 14</td>\n",
       "      <td>Serbia\\nGreece</td>\n",
       "    </tr>\n",
       "    <tr>\n",
       "      <td>380</td>\n",
       "      <td>2002</td>\n",
       "      <td>Steve Nash</td>\n",
       "      <td>G</td>\n",
       "      <td>6-3</td>\n",
       "      <td>178</td>\n",
       "      <td>Dallas Mavericks</td>\n",
       "      <td>Western All-Star Coaches Selection</td>\n",
       "      <td>1996 Rnd 1 Pick 15</td>\n",
       "      <td>Canada\\nSouth Africa</td>\n",
       "    </tr>\n",
       "    <tr>\n",
       "      <td>383</td>\n",
       "      <td>2002</td>\n",
       "      <td>Peja Stojakovic</td>\n",
       "      <td>F</td>\n",
       "      <td>6-10</td>\n",
       "      <td>229</td>\n",
       "      <td>Sacramento Kings</td>\n",
       "      <td>Western All-Star Replacement Selection</td>\n",
       "      <td>1996 Rnd 1 Pick 14</td>\n",
       "      <td>Serbia\\nGreece</td>\n",
       "    </tr>\n",
       "    <tr>\n",
       "      <td>404</td>\n",
       "      <td>2001</td>\n",
       "      <td>Steve Nash</td>\n",
       "      <td>G</td>\n",
       "      <td>6-3</td>\n",
       "      <td>178</td>\n",
       "      <td>Dallas Mavericks</td>\n",
       "      <td>Western All-Star Coaches Selection</td>\n",
       "      <td>1996 Rnd 1 Pick 15</td>\n",
       "      <td>Canada\\nSouth Africa</td>\n",
       "    </tr>\n",
       "    <tr>\n",
       "      <td>407</td>\n",
       "      <td>2001</td>\n",
       "      <td>Peja Stojakovic</td>\n",
       "      <td>F</td>\n",
       "      <td>6-10</td>\n",
       "      <td>229</td>\n",
       "      <td>Sacramento Kings</td>\n",
       "      <td>Western All-Star Coaches Selection</td>\n",
       "      <td>1996 Rnd 1 Pick 14</td>\n",
       "      <td>Serbia\\nGreece</td>\n",
       "    </tr>\n",
       "    <tr>\n",
       "      <td>408</td>\n",
       "      <td>2001</td>\n",
       "      <td>Wally Szczerbiak</td>\n",
       "      <td>F</td>\n",
       "      <td>6-7</td>\n",
       "      <td>240</td>\n",
       "      <td>Minnesota Timberwolves</td>\n",
       "      <td>Western All-Star Coaches Selection</td>\n",
       "      <td>1999 Rnd 1 Pick 6</td>\n",
       "      <td>United States\\nSpain</td>\n",
       "    </tr>\n",
       "  </tbody>\n",
       "</table>\n",
       "</div>"
      ],
      "text/plain": [
       "     Year                 Player Pos    HT   WT                    Team  \\\n",
       "12   2016           Kyrie Irving   G   6-3  193     Cleveland Cavaliers   \n",
       "15   2016  Giannis Antetokounmpo   F  6-11  222         Milwaukee Bucks   \n",
       "37   2015             Al Horford  FC  6-10  245           Atlanta Hawks   \n",
       "55   2014             Al Horford  FC  6-10  245           Atlanta Hawks   \n",
       "59   2014           Kyrie Irving   G   6-3  193     Cleveland Cavaliers   \n",
       "93   2013           Kyrie Irving   G   6-3  193     Cleveland Cavaliers   \n",
       "100  2013            Joakim Noah  FC  6-11  230           Chicago Bulls   \n",
       "122  2012            Joakim Noah  FC  6-11  230           Chicago Bulls   \n",
       "124  2012              Luol Deng  GF   6-9  220           Chicago Bulls   \n",
       "126  2012           Kyrie Irving   G   6-3  193     Cleveland Cavaliers   \n",
       "137  2011              Luol Deng  GF   6-9  220           Chicago Bulls   \n",
       "151  2011             Steve Nash   G   6-3  178            Phoenix Suns   \n",
       "175  2010             Al Horford  FC  6-10  245           Atlanta Hawks   \n",
       "185  2009             Steve Nash   G   6-3  178            Phoenix Suns   \n",
       "191  2009            Chris Kaman   C   7-0  265    Los Angeles Clippers   \n",
       "204  2009             Al Horford  FC  6-10  245           Atlanta Hawks   \n",
       "232  2007          Carlos Boozer  PF   6-9  266               Utah Jazz   \n",
       "233  2007             Steve Nash   G   6-3  178            Phoenix Suns   \n",
       "263  2006             Steve Nash   G   6-3  178            Phoenix Suns   \n",
       "265  2006          Carlos Boozer  PF   6-9  266               Utah Jazz   \n",
       "287  2005             Steve Nash   G   6-3  178            Phoenix Suns   \n",
       "321  2004             Steve Nash   G   6-3  178            Phoenix Suns   \n",
       "344  2003        Peja Stojakovic   F  6-10  229        Sacramento Kings   \n",
       "380  2002             Steve Nash   G   6-3  178        Dallas Mavericks   \n",
       "383  2002        Peja Stojakovic   F  6-10  229        Sacramento Kings   \n",
       "404  2001             Steve Nash   G   6-3  178        Dallas Mavericks   \n",
       "407  2001        Peja Stojakovic   F  6-10  229        Sacramento Kings   \n",
       "408  2001       Wally Szczerbiak   F   6-7  240  Minnesota Timberwolves   \n",
       "\n",
       "                             Selection Type        draft_status  \\\n",
       "12      Eastern All-Star Fan Vote Selection   2011 Rnd 1 Pick 1   \n",
       "15      Eastern All-Star Fan Vote Selection  2013 Rnd 1 Pick 15   \n",
       "37   Eastern All-Star Replacement Selection   2007 Rnd 1 Pick 3   \n",
       "55       Eastern All-Star Coaches Selection   2007 Rnd 1 Pick 3   \n",
       "59       Eastern All-Star Coaches Selection   2011 Rnd 1 Pick 1   \n",
       "93      Eastern All-Star Fan Vote Selection   2011 Rnd 1 Pick 1   \n",
       "100      Eastern All-Star Coaches Selection   2007 Rnd 1 Pick 9   \n",
       "122      Eastern All-Star Coaches Selection   2007 Rnd 1 Pick 9   \n",
       "124      Eastern All-Star Coaches Selection   2004 Rnd 1 Pick 7   \n",
       "126      Eastern All-Star Coaches Selection   2011 Rnd 1 Pick 1   \n",
       "137      Eastern All-Star Coaches Selection   2004 Rnd 1 Pick 7   \n",
       "151      Western All-Star Coaches Selection  1996 Rnd 1 Pick 15   \n",
       "175      Eastern All-Star Coaches Selection   2007 Rnd 1 Pick 3   \n",
       "185     Western All-Star Fan Vote Selection  1996 Rnd 1 Pick 15   \n",
       "191  Western All-Star Replacement Selection   2003 Rnd 1 Pick 6   \n",
       "204      Eastern All-Star Coaches Selection   2007 Rnd 1 Pick 3   \n",
       "232      Western All-Star Coaches Selection   2002 Rnd 2 Pick 6   \n",
       "233      Western All-Star Coaches Selection  1996 Rnd 1 Pick 15   \n",
       "263      Western All-Star Coaches Selection  1996 Rnd 1 Pick 15   \n",
       "265      Western All-Star Coaches Selection   2002 Rnd 2 Pick 6   \n",
       "287     Western All-Star Fan Vote Selection  1996 Rnd 1 Pick 15   \n",
       "321      Western All-Star Coaches Selection  1996 Rnd 1 Pick 15   \n",
       "344      Western All-Star Coaches Selection  1996 Rnd 1 Pick 14   \n",
       "380      Western All-Star Coaches Selection  1996 Rnd 1 Pick 15   \n",
       "383  Western All-Star Replacement Selection  1996 Rnd 1 Pick 14   \n",
       "404      Western All-Star Coaches Selection  1996 Rnd 1 Pick 15   \n",
       "407      Western All-Star Coaches Selection  1996 Rnd 1 Pick 14   \n",
       "408      Western All-Star Coaches Selection   1999 Rnd 1 Pick 6   \n",
       "\n",
       "                           Nationality  \n",
       "12            United States\\nAustralia  \n",
       "15                     Greece\\nNigeria  \n",
       "37   Dominican Republic\\nUnited States  \n",
       "55   Dominican Republic\\nUnited States  \n",
       "59            United States\\nAustralia  \n",
       "93            United States\\nAustralia  \n",
       "100              France\\nUnited States  \n",
       "122              France\\nUnited States  \n",
       "124               England\\nSouth Sudan  \n",
       "126           United States\\nAustralia  \n",
       "137               England\\nSouth Sudan  \n",
       "151               Canada\\nSouth Africa  \n",
       "175  Dominican Republic\\nUnited States  \n",
       "185               Canada\\nSouth Africa  \n",
       "191             United States\\nGermany  \n",
       "204  Dominican Republic\\nUnited States  \n",
       "232             Germany\\nUnited States  \n",
       "233               Canada\\nSouth Africa  \n",
       "263               Canada\\nSouth Africa  \n",
       "265             Germany\\nUnited States  \n",
       "287               Canada\\nSouth Africa  \n",
       "321               Canada\\nSouth Africa  \n",
       "344                     Serbia\\nGreece  \n",
       "380               Canada\\nSouth Africa  \n",
       "383                     Serbia\\nGreece  \n",
       "404               Canada\\nSouth Africa  \n",
       "407                     Serbia\\nGreece  \n",
       "408               United States\\nSpain  "
      ]
     },
     "execution_count": 13,
     "metadata": {},
     "output_type": "execute_result"
    }
   ],
   "source": [
    "df_p['Nationality'].astype(str)\n",
    "du_nat = df_p[df_p['Nationality'].str.contains('\\n')]\n",
    "du_nat\n"
   ]
  },
  {
   "cell_type": "code",
   "execution_count": 14,
   "metadata": {},
   "outputs": [
    {
     "data": {
      "text/plain": [
       "pandas.core.series.Series"
      ]
     },
     "execution_count": 14,
     "metadata": {},
     "output_type": "execute_result"
    }
   ],
   "source": [
    "type(du_nat[\"Player\"])"
   ]
  },
  {
   "cell_type": "code",
   "execution_count": 15,
   "metadata": {},
   "outputs": [],
   "source": [
    "du_nat_num = len(du_nat[\"Player\"].unique())"
   ]
  },
  {
   "cell_type": "code",
   "execution_count": 16,
   "metadata": {},
   "outputs": [],
   "source": [
    "du_app = du_nat.Player.count()"
   ]
  },
  {
   "cell_type": "code",
   "execution_count": 17,
   "metadata": {},
   "outputs": [
    {
     "name": "stdout",
     "output_type": "stream",
     "text": [
      "10 players were dual national and appeared 28 times.\n"
     ]
    }
   ],
   "source": [
    "print(f\"{du_nat_num} players were dual national and appeared {du_app} times.\")"
   ]
  },
  {
   "cell_type": "code",
   "execution_count": 18,
   "metadata": {},
   "outputs": [],
   "source": [
    "df1 = du_nat.copy()\n",
    "df2 = du_nat.copy()"
   ]
  },
  {
   "cell_type": "code",
   "execution_count": 19,
   "metadata": {},
   "outputs": [],
   "source": [
    "df1[\"Nationality\"] = df1[\"Nationality\"].apply(lambda x: x.split('\\n')[0])\n",
    "df2[\"Nationality\"] = df2[\"Nationality\"].apply(lambda x: x.split('\\n')[1])"
   ]
  },
  {
   "cell_type": "code",
   "execution_count": 20,
   "metadata": {
    "scrolled": false
   },
   "outputs": [
    {
     "data": {
      "text/plain": [
       "Int64Index([ 12,  15,  37,  55,  59,  93, 100, 122, 124, 126, 137, 151, 175,\n",
       "            185, 191, 204, 232, 233, 263, 265, 287, 321, 344, 380, 383, 404,\n",
       "            407, 408],\n",
       "           dtype='int64')"
      ]
     },
     "execution_count": 20,
     "metadata": {},
     "output_type": "execute_result"
    }
   ],
   "source": [
    "du_nat.index"
   ]
  },
  {
   "cell_type": "code",
   "execution_count": 21,
   "metadata": {},
   "outputs": [],
   "source": [
    "df_nat = df_p.copy()\n",
    "df_nat.drop(du_nat.index, inplace=True)\n",
    "df_nat = df_nat.append(df1.append(df2), ignore_index=True)"
   ]
  },
  {
   "cell_type": "code",
   "execution_count": 22,
   "metadata": {
    "scrolled": false
   },
   "outputs": [
    {
     "data": {
      "text/html": [
       "<div>\n",
       "<style scoped>\n",
       "    .dataframe tbody tr th:only-of-type {\n",
       "        vertical-align: middle;\n",
       "    }\n",
       "\n",
       "    .dataframe tbody tr th {\n",
       "        vertical-align: top;\n",
       "    }\n",
       "\n",
       "    .dataframe thead th {\n",
       "        text-align: right;\n",
       "    }\n",
       "</style>\n",
       "<table border=\"1\" class=\"dataframe\">\n",
       "  <thead>\n",
       "    <tr style=\"text-align: right;\">\n",
       "      <th></th>\n",
       "      <th>Year</th>\n",
       "      <th>Player</th>\n",
       "      <th>Pos</th>\n",
       "      <th>HT</th>\n",
       "      <th>WT</th>\n",
       "      <th>Team</th>\n",
       "      <th>Selection Type</th>\n",
       "      <th>draft_status</th>\n",
       "      <th>Nationality</th>\n",
       "    </tr>\n",
       "  </thead>\n",
       "  <tbody>\n",
       "  </tbody>\n",
       "</table>\n",
       "</div>"
      ],
      "text/plain": [
       "Empty DataFrame\n",
       "Columns: [Year, Player, Pos, HT, WT, Team, Selection Type, draft_status, Nationality]\n",
       "Index: []"
      ]
     },
     "execution_count": 22,
     "metadata": {},
     "output_type": "execute_result"
    }
   ],
   "source": [
    "df_nat[df_nat['Nationality'].str.contains(\"\\n\")]"
   ]
  },
  {
   "cell_type": "code",
   "execution_count": 23,
   "metadata": {
    "scrolled": false
   },
   "outputs": [
    {
     "data": {
      "text/plain": [
       "Nationality\n",
       "Argentina                             2\n",
       "Australia                             4\n",
       "Canada                                9\n",
       "China                                 8\n",
       "Democratic Republic of the Congo      2\n",
       "Dominican Republic                    4\n",
       "England                               2\n",
       "France                                8\n",
       "Germany                              16\n",
       "Greece                                4\n",
       "Lithuania                             2\n",
       "Nigeria                               1\n",
       "Russia                                1\n",
       "Serbia                                4\n",
       "South Africa                          8\n",
       "South Sudan                           2\n",
       "Spain                                10\n",
       "Turkey                                1\n",
       "United States                       379\n",
       "Name: Player, dtype: int64"
      ]
     },
     "execution_count": 23,
     "metadata": {},
     "output_type": "execute_result"
    }
   ],
   "source": [
    "nat2 = df_nat.groupby('Nationality')['Player'].count()\n",
    "nat2"
   ]
  },
  {
   "cell_type": "code",
   "execution_count": 24,
   "metadata": {
    "scrolled": true
   },
   "outputs": [
    {
     "data": {
      "text/plain": [
       "Nationality\n",
       "Argentina                            2\n",
       "Australia                            4\n",
       "Canada                               9\n",
       "China                                8\n",
       "Democratic Republic of the Congo     2\n",
       "Dominican Republic                   4\n",
       "England                              2\n",
       "France                               8\n",
       "Germany                             16\n",
       "Greece                               4\n",
       "Lithuania                            2\n",
       "Nigeria                              1\n",
       "Russia                               1\n",
       "Serbia                               4\n",
       "South Africa                         8\n",
       "South Sudan                          2\n",
       "Spain                               10\n",
       "Turkey                               1\n",
       "Name: Player, dtype: int64"
      ]
     },
     "execution_count": 24,
     "metadata": {},
     "output_type": "execute_result"
    }
   ],
   "source": [
    "nat3 = nat2.copy()\n",
    "nat3.drop(labels=['United States'], inplace=True)\n",
    "nat3"
   ]
  },
  {
   "cell_type": "code",
   "execution_count": 25,
   "metadata": {},
   "outputs": [
    {
     "data": {
      "text/plain": [
       "88"
      ]
     },
     "execution_count": 25,
     "metadata": {},
     "output_type": "execute_result"
    }
   ],
   "source": [
    "nat3.sum()"
   ]
  },
  {
   "cell_type": "code",
   "execution_count": 30,
   "metadata": {
    "scrolled": false
   },
   "outputs": [
    {
     "data": {
      "image/png": "[encoded data removed]",
      "text/plain": [
       "<Figure size 432x288 with 1 Axes>"
      ]
     },
     "metadata": {},
     "output_type": "display_data"
    }
   ],
   "source": [
    "labels = \"Appearances by US Nationals\", \"Appearances by Foreign Nationals\"\n",
    "players = [376, 88]\n",
    "explode = (0, 0.1)\n",
    "\n",
    "plt.pie(players, explode=explode, labels=labels, autopct='%1.0f%%', shadow=True, startangle=90)\n",
    "plt.title('Nationality by All Star Game Appearances (2000-2016)', bbox={'facecolor':'0.8', 'pad':5});"
   ]
  },
  {
   "cell_type": "code",
   "execution_count": 46,
   "metadata": {
    "scrolled": true
   },
   "outputs": [
    {
     "data": {
      "image/png": "[encoded data removed]",
      "text/plain": [
       "<Figure size 1080x864 with 1 Axes>"
      ]
     },
     "metadata": {},
     "output_type": "display_data"
    }
   ],
   "source": [
    "nat3.plot(kind='pie',figsize=(15, 12))\n",
    "plt.title('The Nationalities of Foreign NBA All Stars (2000-2016) by Number of Appearances', fontsize=18,  bbox={'facecolor':'0.8', 'pad':5})\n",
    "# plt.arrowprops=dict(arrowstyle=\"-\",connectionstyle=\"angle,angleA=0,angleB=90\")\n",
    "plt.axis('off');"
   ]
  },
  {
   "cell_type": "code",
   "execution_count": 52,
   "metadata": {
    "scrolled": true
   },
   "outputs": [
    {
     "data": {
      "text/plain": [
       "Nationality\n",
       "Argentina                             1\n",
       "Australia                             1\n",
       "Canada                                2\n",
       "China                                 1\n",
       "Democratic Republic of the Congo      1\n",
       "Dominican Republic                    1\n",
       "England                               1\n",
       "France                                2\n",
       "Germany                               3\n",
       "Greece                                2\n",
       "Lithuania                             1\n",
       "Nigeria                               1\n",
       "Russia                                1\n",
       "Serbia                                2\n",
       "South Africa                          1\n",
       "South Sudan                           1\n",
       "Spain                                 3\n",
       "Turkey                                1\n",
       "United States                       107\n",
       "Name: Player, dtype: int64"
      ]
     },
     "execution_count": 52,
     "metadata": {},
     "output_type": "execute_result"
    }
   ],
   "source": [
    "nat5 = df_nat.groupby('Nationality')['Player'].nunique()\n",
    "nat5"
   ]
  },
  {
   "cell_type": "code",
   "execution_count": 53,
   "metadata": {
    "scrolled": true
   },
   "outputs": [
    {
     "data": {
      "text/plain": [
       "Nationality\n",
       "Argentina                           1\n",
       "Australia                           1\n",
       "Canada                              2\n",
       "China                               1\n",
       "Democratic Republic of the Congo    1\n",
       "Dominican Republic                  1\n",
       "England                             1\n",
       "France                              2\n",
       "Germany                             3\n",
       "Greece                              2\n",
       "Lithuania                           1\n",
       "Nigeria                             1\n",
       "Russia                              1\n",
       "Serbia                              2\n",
       "South Africa                        1\n",
       "South Sudan                         1\n",
       "Spain                               3\n",
       "Turkey                              1\n",
       "Name: Player, dtype: int64"
      ]
     },
     "execution_count": 53,
     "metadata": {},
     "output_type": "execute_result"
    }
   ],
   "source": [
    "nat6 = nat5.copy()\n",
    "nat6.drop(labels=['United States'], inplace=True)\n",
    "nat6"
   ]
  },
  {
   "cell_type": "code",
   "execution_count": 54,
   "metadata": {
    "scrolled": true
   },
   "outputs": [
    {
     "data": {
      "text/plain": [
       "18"
      ]
     },
     "execution_count": 54,
     "metadata": {},
     "output_type": "execute_result"
    }
   ],
   "source": [
    "nat6.count()"
   ]
  },
  {
   "cell_type": "code",
   "execution_count": 55,
   "metadata": {},
   "outputs": [
    {
     "data": {
      "text/plain": [
       "pandas.core.series.Series"
      ]
     },
     "execution_count": 55,
     "metadata": {},
     "output_type": "execute_result"
    }
   ],
   "source": [
    "type(nat6)"
   ]
  },
  {
   "cell_type": "code",
   "execution_count": 56,
   "metadata": {
    "scrolled": true
   },
   "outputs": [],
   "source": [
    "nat = pd.DataFrame({\n",
    "    'labels': [\"Appearances by US Nationals\", \"Appearances by Foreign Nationals\"],\n",
    "    'players': [107, 18]\n",
    "})"
   ]
  },
  {
   "cell_type": "code",
   "execution_count": 57,
   "metadata": {},
   "outputs": [
    {
     "data": {
      "text/plain": [
       "labels     object\n",
       "players     int64\n",
       "dtype: object"
      ]
     },
     "execution_count": 57,
     "metadata": {},
     "output_type": "execute_result"
    }
   ],
   "source": [
    "nat.dtypes"
   ]
  },
  {
   "cell_type": "code",
   "execution_count": 58,
   "metadata": {},
   "outputs": [
    {
     "data": {
      "text/plain": [
       "0    107\n",
       "1     18\n",
       "Name: players, dtype: int64"
      ]
     },
     "execution_count": 58,
     "metadata": {},
     "output_type": "execute_result"
    }
   ],
   "source": [
    "nat.players"
   ]
  },
  {
   "cell_type": "code",
   "execution_count": 61,
   "metadata": {},
   "outputs": [
    {
     "data": {
      "image/png": "[encoded data removed]",
      "text/plain": [
       "<Figure size 432x288 with 1 Axes>"
      ]
     },
     "metadata": {},
     "output_type": "display_data"
    }
   ],
   "source": [
    "labels = \"American All Stars\", \"Foreign All Stars\"\n",
    "players = [107, 18]\n",
    "explode = (0, 0.1)\n",
    "\n",
    "plt.pie(players, explode=explode, labels=labels, autopct='%1.0f%%', shadow=True, startangle=90)\n",
    "plt.title('The Nationalities of NBA All Stars (2000-2016)', bbox={'facecolor':'0.8', 'pad':5});\n",
    "\n"
   ]
  },
  {
   "cell_type": "code",
   "execution_count": 60,
   "metadata": {
    "scrolled": true
   },
   "outputs": [
    {
     "data": {
      "image/png": "[encoded data removed]",
      "text/plain": [
       "<Figure size 1080x864 with 1 Axes>"
      ]
     },
     "metadata": {},
     "output_type": "display_data"
    }
   ],
   "source": [
    "nat6.plot(kind='pie',figsize=(15, 12))\n",
    "plt.title('The Nationalities of Foreign NBA All Stars (2000-2016) by Number of Players', fontsize=18,  bbox={'facecolor':'0.8', 'pad':5})\n",
    "# plt.arrowprops=dict(arrowstyle=\"-\",connectionstyle=\"angle,angleA=0,angleB=90\")\n",
    "plt.axis('off');"
   ]
  },
  {
   "cell_type": "markdown",
   "metadata": {},
   "source": [
    "# How often are the Western All-Stars voted in by fans?"
   ]
  },
  {
   "cell_type": "code",
   "execution_count": 67,
   "metadata": {
    "scrolled": true
   },
   "outputs": [
    {
     "data": {
      "text/plain": [
       "conference  type                 \n",
       "Eastern     Coaches Selection        119\n",
       "            Fan Vote Selection        85\n",
       "            Replacement Selection     16\n",
       "Western     Coaches Selection        119\n",
       "            Fan Vote Selection        85\n",
       "            Replacement Selection     15\n",
       "Name: type, dtype: int64"
      ]
     },
     "execution_count": 67,
     "metadata": {},
     "output_type": "execute_result"
    }
   ],
   "source": [
    "df_p['Selection Type'].astype(str)\n",
    "sel = df_p['Selection Type'].str.split(\" All-Star \")\n",
    "sel_list = sel.to_list()\n",
    "names = [\"conference\", \"type\"]\n",
    "df_sel = pd.DataFrame(sel_list, columns=names)\n",
    "sel_count = df_sel.groupby(['conference','type'])['type'].count()\n",
    "sel_count"
   ]
  },
  {
   "cell_type": "code",
   "execution_count": 73,
   "metadata": {},
   "outputs": [
    {
     "name": "stdout",
     "output_type": "stream",
     "text": [
      "In the Western Conference, fans selected 85 All-Stars from 2000-2016 while coaches selected 119 All-Stars and 15 All-Stars were replacement selections.\n"
     ]
    },
    {
     "data": {
      "image/png": "[encoded data removed]",
      "text/plain": [
       "<Figure size 1080x864 with 1 Axes>"
      ]
     },
     "metadata": {
      "needs_background": "light"
     },
     "output_type": "display_data"
    }
   ],
   "source": [
    "print(f\"In the Western Conference, fans selected 85 All-Stars from 2000-2016 while coaches selected 119 All-Stars and 15 All-Stars were replacement selections.\")\n",
    "sel_count.plot(kind='barh',figsize=(15, 12), grid=True)\n",
    "plt.title('All-Star Selections (2000-2016)', fontsize=18,  bbox={'facecolor':'0.8', 'pad':5})\n",
    "plt.ylabel('Selection Type', fontsize=14)\n",
    "plt.xlabel('Number of Selections', fontsize=14);\n"
   ]
  },
  {
   "cell_type": "markdown",
   "metadata": {},
   "source": [
    "# How many times does Steph Curry make the All-Star game during this time period?"
   ]
  },
  {
   "cell_type": "code",
   "execution_count": 75,
   "metadata": {
    "scrolled": true
   },
   "outputs": [
    {
     "data": {
      "text/html": [
       "<div>\n",
       "<style scoped>\n",
       "    .dataframe tbody tr th:only-of-type {\n",
       "        vertical-align: middle;\n",
       "    }\n",
       "\n",
       "    .dataframe tbody tr th {\n",
       "        vertical-align: top;\n",
       "    }\n",
       "\n",
       "    .dataframe thead th {\n",
       "        text-align: right;\n",
       "    }\n",
       "</style>\n",
       "<table border=\"1\" class=\"dataframe\">\n",
       "  <thead>\n",
       "    <tr style=\"text-align: right;\">\n",
       "      <th></th>\n",
       "      <th>Year</th>\n",
       "      <th>Player</th>\n",
       "      <th>Pos</th>\n",
       "      <th>HT</th>\n",
       "      <th>WT</th>\n",
       "      <th>Team</th>\n",
       "      <th>Selection Type</th>\n",
       "      <th>draft_status</th>\n",
       "      <th>Nationality</th>\n",
       "    </tr>\n",
       "  </thead>\n",
       "  <tbody>\n",
       "    <tr>\n",
       "      <td>0</td>\n",
       "      <td>2016</td>\n",
       "      <td>Stephen Curry</td>\n",
       "      <td>G</td>\n",
       "      <td>6-3</td>\n",
       "      <td>190</td>\n",
       "      <td>Golden State Warriors</td>\n",
       "      <td>Western All-Star Fan Vote Selection</td>\n",
       "      <td>2009 Rnd 1 Pick 7</td>\n",
       "      <td>United States</td>\n",
       "    </tr>\n",
       "    <tr>\n",
       "      <td>41</td>\n",
       "      <td>2015</td>\n",
       "      <td>Stephen Curry</td>\n",
       "      <td>G</td>\n",
       "      <td>6-3</td>\n",
       "      <td>190</td>\n",
       "      <td>Golden State Warriors</td>\n",
       "      <td>Western All-Star Fan Vote Selection</td>\n",
       "      <td>2009 Rnd 1 Pick 7</td>\n",
       "      <td>United States</td>\n",
       "    </tr>\n",
       "    <tr>\n",
       "      <td>63</td>\n",
       "      <td>2014</td>\n",
       "      <td>Stephen Curry</td>\n",
       "      <td>G</td>\n",
       "      <td>6-3</td>\n",
       "      <td>190</td>\n",
       "      <td>Golden State Warriors</td>\n",
       "      <td>Western All-Star Fan Vote Selection</td>\n",
       "      <td>2009 Rnd 1 Pick 7</td>\n",
       "      <td>United States</td>\n",
       "    </tr>\n",
       "    <tr>\n",
       "      <td>87</td>\n",
       "      <td>2013</td>\n",
       "      <td>Stephen Curry</td>\n",
       "      <td>G</td>\n",
       "      <td>6-3</td>\n",
       "      <td>190</td>\n",
       "      <td>Golden State Warriors</td>\n",
       "      <td>Western All-Star Fan Vote Selection</td>\n",
       "      <td>2009 Rnd 1 Pick 7</td>\n",
       "      <td>United States</td>\n",
       "    </tr>\n",
       "  </tbody>\n",
       "</table>\n",
       "</div>"
      ],
      "text/plain": [
       "    Year         Player Pos   HT   WT                   Team  \\\n",
       "0   2016  Stephen Curry   G  6-3  190  Golden State Warriors   \n",
       "41  2015  Stephen Curry   G  6-3  190  Golden State Warriors   \n",
       "63  2014  Stephen Curry   G  6-3  190  Golden State Warriors   \n",
       "87  2013  Stephen Curry   G  6-3  190  Golden State Warriors   \n",
       "\n",
       "                         Selection Type       draft_status    Nationality  \n",
       "0   Western All-Star Fan Vote Selection  2009 Rnd 1 Pick 7  United States  \n",
       "41  Western All-Star Fan Vote Selection  2009 Rnd 1 Pick 7  United States  \n",
       "63  Western All-Star Fan Vote Selection  2009 Rnd 1 Pick 7  United States  \n",
       "87  Western All-Star Fan Vote Selection  2009 Rnd 1 Pick 7  United States  "
      ]
     },
     "execution_count": 75,
     "metadata": {},
     "output_type": "execute_result"
    }
   ],
   "source": [
    "df_p.query('Player==\"Stephen Curry\"')"
   ]
  },
  {
   "cell_type": "code",
   "execution_count": 78,
   "metadata": {},
   "outputs": [
    {
     "name": "stdout",
     "output_type": "stream",
     "text": [
      "Steph Curry was in 4 All-Star games between 2000-2016\n"
     ]
    }
   ],
   "source": [
    "sc = len(df_p.query('Player==\"Stephen Curry\"'))\n",
    "print(f'Steph Curry was in {sc} All-Star games between 2000-2016')"
   ]
  },
  {
   "cell_type": "markdown",
   "metadata": {},
   "source": [
    "# How many Shooting Gaurds have made the All-Star game during this time?"
   ]
  },
  {
   "cell_type": "code",
   "execution_count": 80,
   "metadata": {},
   "outputs": [
    {
     "name": "stdout",
     "output_type": "stream",
     "text": [
      "57 All-Star selections were shooting guards between 2000 and 2016\n"
     ]
    }
   ],
   "source": [
    "sg = len(df_p.query('Pos==\"SG\"'))\n",
    "print(f'{sg} All-Star selections were shooting guards between 2000 and 2016')"
   ]
  },
  {
   "cell_type": "markdown",
   "metadata": {},
   "source": [
    "# How many Chicago Bulls players have made the All-Star Game during this time period?"
   ]
  },
  {
   "cell_type": "code",
   "execution_count": 81,
   "metadata": {},
   "outputs": [
    {
     "name": "stdout",
     "output_type": "stream",
     "text": [
      "12 All-Star selections were Chicago Bulls between 2000 and 2016\n"
     ]
    }
   ],
   "source": [
    "bulls = len(df_p.query('Team==\"Chicago Bulls\"'))\n",
    "print(f'{bulls} All-Star selections were Chicago Bulls between 2000 and 2016')"
   ]
  }
 ],
 "metadata": {
  "kernelspec": {
   "display_name": "Python 3",
   "language": "python",
   "name": "python3"
  },
  "language_info": {
   "codemirror_mode": {
    "name": "ipython",
    "version": 3
   },
   "file_extension": ".py",
   "mimetype": "text/x-python",
   "name": "python",
   "nbconvert_exporter": "python",
   "pygments_lexer": "ipython3",
   "version": "3.7.4"
  }
 },
 "nbformat": 4,
 "nbformat_minor": 2
}
